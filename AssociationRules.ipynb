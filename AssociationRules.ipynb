{
 "cells": [
  {
   "cell_type": "code",
   "execution_count": 1,
   "id": "69830575",
   "metadata": {},
   "outputs": [],
   "source": [
    "import pandas as pd\n",
    "from ast import literal_eval"
   ]
  },
  {
   "cell_type": "markdown",
   "id": "ba039a60",
   "metadata": {},
   "source": [
    "## load and prepare result of FPgroth algorithm "
   ]
  },
  {
   "cell_type": "code",
   "execution_count": 2,
   "id": "b1775610",
   "metadata": {},
   "outputs": [
    {
     "data": {
      "text/html": [
       "<div>\n",
       "<style scoped>\n",
       "    .dataframe tbody tr th:only-of-type {\n",
       "        vertical-align: middle;\n",
       "    }\n",
       "\n",
       "    .dataframe tbody tr th {\n",
       "        vertical-align: top;\n",
       "    }\n",
       "\n",
       "    .dataframe thead th {\n",
       "        text-align: right;\n",
       "    }\n",
       "</style>\n",
       "<table border=\"1\" class=\"dataframe\">\n",
       "  <thead>\n",
       "    <tr style=\"text-align: right;\">\n",
       "      <th></th>\n",
       "      <th>antecedent</th>\n",
       "      <th>consequent</th>\n",
       "      <th>confidence</th>\n",
       "      <th>lift</th>\n",
       "      <th>support</th>\n",
       "    </tr>\n",
       "  </thead>\n",
       "  <tbody>\n",
       "    <tr>\n",
       "      <th>0</th>\n",
       "      <td>[739590033]</td>\n",
       "      <td>[860949003]</td>\n",
       "      <td>0.876498</td>\n",
       "      <td>6470.533310</td>\n",
       "      <td>0.000105</td>\n",
       "    </tr>\n",
       "    <tr>\n",
       "      <th>1</th>\n",
       "      <td>[590928001]</td>\n",
       "      <td>[688537004]</td>\n",
       "      <td>0.213753</td>\n",
       "      <td>131.632335</td>\n",
       "      <td>0.000306</td>\n",
       "    </tr>\n",
       "    <tr>\n",
       "      <th>2</th>\n",
       "      <td>[590928001]</td>\n",
       "      <td>[712924012]</td>\n",
       "      <td>0.130234</td>\n",
       "      <td>357.050472</td>\n",
       "      <td>0.000187</td>\n",
       "    </tr>\n",
       "  </tbody>\n",
       "</table>\n",
       "</div>"
      ],
      "text/plain": [
       "    antecedent   consequent  confidence         lift   support\n",
       "0  [739590033]  [860949003]    0.876498  6470.533310  0.000105\n",
       "1  [590928001]  [688537004]    0.213753   131.632335  0.000306\n",
       "2  [590928001]  [712924012]    0.130234   357.050472  0.000187"
      ]
     },
     "execution_count": 2,
     "metadata": {},
     "output_type": "execute_result"
    }
   ],
   "source": [
    "# load rules csv in columns with list format\n",
    "df=pd.read_csv(\"data/rules_0.0001_0.001.csv\", converters={'antecedent': literal_eval,'consequent': literal_eval})\n",
    "df.head(3)"
   ]
  },
  {
   "cell_type": "code",
   "execution_count": 3,
   "id": "8668e454",
   "metadata": {},
   "outputs": [],
   "source": [
    "# convert strings of articles to integer(article id)\n",
    "df[\"antecedent\"] = df[\"antecedent\"].apply(lambda x: list(map(int,x)))\n",
    "df[\"consequent\"] = df[\"consequent\"].apply(lambda x: list(map(int,x)))"
   ]
  },
  {
   "cell_type": "markdown",
   "id": "1722d75b",
   "metadata": {},
   "source": [
    "## load article csv and create dictionary of article ids and names of products  "
   ]
  },
  {
   "cell_type": "code",
   "execution_count": 4,
   "id": "f3e3ef3e",
   "metadata": {},
   "outputs": [],
   "source": [
    "# load articles\n",
    "dfa=pd.read_csv('data/articles.csv')"
   ]
  },
  {
   "cell_type": "code",
   "execution_count": 5,
   "id": "100f9d80",
   "metadata": {},
   "outputs": [],
   "source": [
    "# generate dictionary key: article_id, value: product_name\n",
    "dfa_dict=dict(zip(dfa.article_id,dfa.prod_name))"
   ]
  },
  {
   "cell_type": "markdown",
   "id": "f756925b",
   "metadata": {},
   "source": [
    "## select the articles that are bought together more often "
   ]
  },
  {
   "cell_type": "code",
   "execution_count": 6,
   "id": "d64c630c",
   "metadata": {},
   "outputs": [
    {
     "data": {
      "text/html": [
       "<div>\n",
       "<style scoped>\n",
       "    .dataframe tbody tr th:only-of-type {\n",
       "        vertical-align: middle;\n",
       "    }\n",
       "\n",
       "    .dataframe tbody tr th {\n",
       "        vertical-align: top;\n",
       "    }\n",
       "\n",
       "    .dataframe thead th {\n",
       "        text-align: right;\n",
       "    }\n",
       "</style>\n",
       "<table border=\"1\" class=\"dataframe\">\n",
       "  <thead>\n",
       "    <tr style=\"text-align: right;\">\n",
       "      <th></th>\n",
       "      <th>antecedent</th>\n",
       "      <th>consequent</th>\n",
       "      <th>confidence</th>\n",
       "      <th>lift</th>\n",
       "      <th>support</th>\n",
       "    </tr>\n",
       "  </thead>\n",
       "  <tbody>\n",
       "    <tr>\n",
       "      <th>512</th>\n",
       "      <td>[810419006]</td>\n",
       "      <td>[800389007]</td>\n",
       "      <td>0.925075</td>\n",
       "      <td>7574.252397</td>\n",
       "      <td>0.000102</td>\n",
       "    </tr>\n",
       "    <tr>\n",
       "      <th>162</th>\n",
       "      <td>[823165002]</td>\n",
       "      <td>[823118002]</td>\n",
       "      <td>0.916078</td>\n",
       "      <td>3985.697098</td>\n",
       "      <td>0.000114</td>\n",
       "    </tr>\n",
       "    <tr>\n",
       "      <th>271</th>\n",
       "      <td>[799410003]</td>\n",
       "      <td>[799409003]</td>\n",
       "      <td>0.910387</td>\n",
       "      <td>4512.268889</td>\n",
       "      <td>0.000148</td>\n",
       "    </tr>\n",
       "    <tr>\n",
       "      <th>446</th>\n",
       "      <td>[712924008]</td>\n",
       "      <td>[590928019]</td>\n",
       "      <td>0.910326</td>\n",
       "      <td>2380.738427</td>\n",
       "      <td>0.000295</td>\n",
       "    </tr>\n",
       "    <tr>\n",
       "      <th>110</th>\n",
       "      <td>[739590022]</td>\n",
       "      <td>[559616017]</td>\n",
       "      <td>0.908894</td>\n",
       "      <td>2448.210493</td>\n",
       "      <td>0.000138</td>\n",
       "    </tr>\n",
       "  </tbody>\n",
       "</table>\n",
       "</div>"
      ],
      "text/plain": [
       "      antecedent   consequent  confidence         lift   support\n",
       "512  [810419006]  [800389007]    0.925075  7574.252397  0.000102\n",
       "162  [823165002]  [823118002]    0.916078  3985.697098  0.000114\n",
       "271  [799410003]  [799409003]    0.910387  4512.268889  0.000148\n",
       "446  [712924008]  [590928019]    0.910326  2380.738427  0.000295\n",
       "110  [739590022]  [559616017]    0.908894  2448.210493  0.000138"
      ]
     },
     "execution_count": 6,
     "metadata": {},
     "output_type": "execute_result"
    }
   ],
   "source": [
    "# select the products that are bought together with high confidence\n",
    "confidence = 0.85\n",
    "df_most=df[df['confidence']>=confidence].sort_values(by=['confidence'],ascending=False)\n",
    "df_most.head()"
   ]
  },
  {
   "cell_type": "code",
   "execution_count": 7,
   "id": "12fd60e7",
   "metadata": {},
   "outputs": [],
   "source": [
    "# create lists of associated products\n",
    "itemsets_most=[]\n",
    "for i,j in zip(list(df_most[\"antecedent\"]),list(df_most[\"consequent\"])):\n",
    "    itemsets_most.append(i+j)"
   ]
  },
  {
   "cell_type": "code",
   "execution_count": 8,
   "id": "56390e74",
   "metadata": {},
   "outputs": [],
   "source": [
    "# convert article ids to names of products\n",
    "names_most=[]\n",
    "for item in itemsets_most:\n",
    "    names_most.append([dfa_dict[x] for x in item])"
   ]
  },
  {
   "cell_type": "code",
   "execution_count": 9,
   "id": "70776387",
   "metadata": {},
   "outputs": [
    {
     "data": {
      "text/plain": [
       "[['Timeless Tanga', 'Timeless High Apex Tri Top'],\n",
       " ['Ginger Highwaist', 'Ginger Top'],\n",
       " ['Kanye Vest Mid Brief', 'Kanye Vest Top'],\n",
       " ['New Girl Wide Side Tanga', 'New Girl Push Top'],\n",
       " ['Timeless Cheeky Brief', 'Timeless Push Triangle(1)'],\n",
       " ['Sweet & Bitter Mid Tie Brief', 'Sweet and Bitter Top'],\n",
       " ['New Girl Cheeky Tanga', 'New Girl Push Top'],\n",
       " ['Timeless Midrise Brief', 'New Girl Push Top'],\n",
       " ['C Antibes Tie Tanga', 'C Antibes Triangle'],\n",
       " ['Timeless Cheeky Brief', 'Tiger Bandeau'],\n",
       " ['Pick Up High Rise Brief', 'Pick Up Top'],\n",
       " ['This Is Sally Tie Tanga', 'This is Sally Push Up Bra'],\n",
       " ['Tulum Tie Brief', 'Tulum Triangle Top'],\n",
       " ['Pretty Please Cheeky Tanga', 'Pretty Please Triangle Top'],\n",
       " ['Timeless Cheeky Brief', 'Tiger Bandeau'],\n",
       " ['Simple as that Cheeky Tanga', 'Simple as That Triangle Top'],\n",
       " ['Hubba Bubba V shape brief', 'Hubba Bubba push triangle'],\n",
       " ['Timeless Tie Tanga', 'Timeless Push Triangle(1)'],\n",
       " ['New Girl Wide Side Tanga', 'New Girl Push Top'],\n",
       " ['Topekachu Tanga', 'Topekachu Padded Top'],\n",
       " ['Knot Bitter Det Brief', 'Knot Bitter Top']]"
      ]
     },
     "execution_count": 9,
     "metadata": {},
     "output_type": "execute_result"
    }
   ],
   "source": [
    "# list of products (list of lists) \n",
    "names_most"
   ]
  },
  {
   "cell_type": "markdown",
   "id": "c506ee1d",
   "metadata": {},
   "source": [
    "## select the articles that are bought together less often"
   ]
  },
  {
   "cell_type": "code",
   "execution_count": 10,
   "id": "c9403c18",
   "metadata": {},
   "outputs": [
    {
     "data": {
      "text/html": [
       "<div>\n",
       "<style scoped>\n",
       "    .dataframe tbody tr th:only-of-type {\n",
       "        vertical-align: middle;\n",
       "    }\n",
       "\n",
       "    .dataframe tbody tr th {\n",
       "        vertical-align: top;\n",
       "    }\n",
       "\n",
       "    .dataframe thead th {\n",
       "        text-align: right;\n",
       "    }\n",
       "</style>\n",
       "<table border=\"1\" class=\"dataframe\">\n",
       "  <thead>\n",
       "    <tr style=\"text-align: right;\">\n",
       "      <th></th>\n",
       "      <th>antecedent</th>\n",
       "      <th>consequent</th>\n",
       "      <th>confidence</th>\n",
       "      <th>lift</th>\n",
       "      <th>support</th>\n",
       "    </tr>\n",
       "  </thead>\n",
       "  <tbody>\n",
       "    <tr>\n",
       "      <th>485</th>\n",
       "      <td>[706016001]</td>\n",
       "      <td>[554450001]</td>\n",
       "      <td>0.025340</td>\n",
       "      <td>17.870156</td>\n",
       "      <td>0.000118</td>\n",
       "    </tr>\n",
       "    <tr>\n",
       "      <th>480</th>\n",
       "      <td>[706016001]</td>\n",
       "      <td>[706016019]</td>\n",
       "      <td>0.025601</td>\n",
       "      <td>45.456790</td>\n",
       "      <td>0.000119</td>\n",
       "    </tr>\n",
       "    <tr>\n",
       "      <th>294</th>\n",
       "      <td>[610776002]</td>\n",
       "      <td>[610776028]</td>\n",
       "      <td>0.045726</td>\n",
       "      <td>73.629682</td>\n",
       "      <td>0.000126</td>\n",
       "    </tr>\n",
       "    <tr>\n",
       "      <th>130</th>\n",
       "      <td>[673677002]</td>\n",
       "      <td>[673677004]</td>\n",
       "      <td>0.050734</td>\n",
       "      <td>74.748216</td>\n",
       "      <td>0.000100</td>\n",
       "    </tr>\n",
       "    <tr>\n",
       "      <th>483</th>\n",
       "      <td>[706016001]</td>\n",
       "      <td>[706016006]</td>\n",
       "      <td>0.052271</td>\n",
       "      <td>40.912604</td>\n",
       "      <td>0.000243</td>\n",
       "    </tr>\n",
       "  </tbody>\n",
       "</table>\n",
       "</div>"
      ],
      "text/plain": [
       "      antecedent   consequent  confidence       lift   support\n",
       "485  [706016001]  [554450001]    0.025340  17.870156  0.000118\n",
       "480  [706016001]  [706016019]    0.025601  45.456790  0.000119\n",
       "294  [610776002]  [610776028]    0.045726  73.629682  0.000126\n",
       "130  [673677002]  [673677004]    0.050734  74.748216  0.000100\n",
       "483  [706016001]  [706016006]    0.052271  40.912604  0.000243"
      ]
     },
     "execution_count": 10,
     "metadata": {},
     "output_type": "execute_result"
    }
   ],
   "source": [
    "# select the products that are bought together with low confidence\n",
    "df_least=df[df['confidence']< 0.1].sort_values(by=['confidence'])\n",
    "df_least.head()"
   ]
  },
  {
   "cell_type": "code",
   "execution_count": 11,
   "id": "1b782fb0",
   "metadata": {},
   "outputs": [],
   "source": [
    "# create lists of less associated products\n",
    "itemsets_least=[]\n",
    "for i,j in zip(list(df_least[\"antecedent\"]),list(df_least[\"consequent\"])):\n",
    "    itemsets_least.append(i+j)"
   ]
  },
  {
   "cell_type": "code",
   "execution_count": 12,
   "id": "85612d7a",
   "metadata": {},
   "outputs": [],
   "source": [
    "# convert article ids to names of products\n",
    "names_least=[]\n",
    "for item in itemsets_least:\n",
    "    names_least.append([dfa_dict[x] for x in item])"
   ]
  },
  {
   "cell_type": "code",
   "execution_count": 13,
   "id": "eb7e9f93",
   "metadata": {},
   "outputs": [
    {
     "data": {
      "text/plain": [
       "[['Jade HW Skinny Denim TRS', 'Julia RW Skinny Denim TRS'],\n",
       " ['Jade HW Skinny Denim TRS', 'Jade HW Skinny Denim TRS'],\n",
       " ['Tilly (1)', 'Tilly (1)'],\n",
       " ['Henry polo. (1)', 'Henry polo (1)'],\n",
       " ['Jade HW Skinny Denim TRS', 'Jade HW Skinny Denim TRS'],\n",
       " ['Tilda tank', 'Tilda tank'],\n",
       " ['Tilda tank', 'Tilda tank'],\n",
       " ['Skinny Ankle R.W Brooklyn', 'Skinny Ankle R.W Brooklyn'],\n",
       " ['Curvy Jeggings HW Ankle', 'Jeggings H.W'],\n",
       " ['Jade HW Skinny Denim TRS', 'Jade HW Skinny Denim TRS'],\n",
       " ['Jade HW Skinny Denim TRS', 'Jade HW Skinny Denim TRS'],\n",
       " ['Simple as that Cheeky Tanga', 'Simple as that Cheeky Tanga'],\n",
       " ['Perrie Slim Mom Denim TRS', 'Perrie Slim Mom Denim TRS'],\n",
       " ['Jade HW Skinny Denim TRS', 'Jade HW Skinny Denim TRS'],\n",
       " ['Skinny Ankle R.W Brooklyn', 'Skinny Ankle R.W Brooklyn'],\n",
       " ['Luna skinny RW', 'Luna skinny RW'],\n",
       " ['Luna skinny RW', 'Luna skinny RW'],\n",
       " ['Tilda tank', 'Tilda tank'],\n",
       " ['Luna skinny RW', 'Luna skinny RW'],\n",
       " ['Jade HW Skinny Denim TRS', 'Jade HW Skinny Denim TRS'],\n",
       " ['Kanta slacks RW', 'Kanta slacks RW'],\n",
       " ['Timeless Midrise Brief', 'Timeless Push Bra'],\n",
       " ['Jade HW Skinny Denim TRS', 'Jade HW Skinny Denim TRS'],\n",
       " ['Timeless Midrise Brief', 'Shake it in Balconette'],\n",
       " ['Perrie Slim Mom Denim TRS', 'Perrie Slim Mom Denim TRS'],\n",
       " ['Jade HW Skinny Denim TRS', 'Jade HW Skinny Denim TRS'],\n",
       " ['Julia RW Skinny Denim TRS', 'Jade HW Skinny Denim TRS'],\n",
       " ['Jade HW Skinny Denim TRS', 'Jade HW Skinny Denim TRS'],\n",
       " ['3p Sneaker Socks', '3p Sneaker Socks'],\n",
       " ['Simple as that Cheeky Tanga', 'Simple as that Cheeky Tanga'],\n",
       " ['Jade HW Skinny Denim TRS', 'Jade HW Skinny Denim TRS'],\n",
       " ['Jade HW Skinny Denim TRS', 'Jade HW Skinny Denim TRS'],\n",
       " ['Highwaist 30 den 1p Tights', 'Control Top 30 den 1p Tights'],\n",
       " ['Primo slacks', 'Primo slacks'],\n",
       " ['Gyda blouse', 'Gyda blouse'],\n",
       " ['Jade HW Skinny Denim TRS', 'Jade HW Skinny Denim TRS'],\n",
       " ['Luna skinny RW', 'Luna skinny RW'],\n",
       " ['Tilda tank', 'Tilda tank'],\n",
       " ['Lazer Razer Brief', 'Lazer Razer Top'],\n",
       " ['Luna skinny RW', 'Luna skinny RW']]"
      ]
     },
     "execution_count": 13,
     "metadata": {},
     "output_type": "execute_result"
    }
   ],
   "source": [
    "# some of names are the same. The reason is that some products with the same name have different article ids.\n",
    "# For instance, as you can see in the next cell two articles have the same name and different colors.\n",
    "names_least"
   ]
  },
  {
   "cell_type": "code",
   "execution_count": 14,
   "id": "4a7f5837",
   "metadata": {},
   "outputs": [
    {
     "data": {
      "text/html": [
       "<div>\n",
       "<style scoped>\n",
       "    .dataframe tbody tr th:only-of-type {\n",
       "        vertical-align: middle;\n",
       "    }\n",
       "\n",
       "    .dataframe tbody tr th {\n",
       "        vertical-align: top;\n",
       "    }\n",
       "\n",
       "    .dataframe thead th {\n",
       "        text-align: right;\n",
       "    }\n",
       "</style>\n",
       "<table border=\"1\" class=\"dataframe\">\n",
       "  <thead>\n",
       "    <tr style=\"text-align: right;\">\n",
       "      <th></th>\n",
       "      <th>article_id</th>\n",
       "      <th>product_code</th>\n",
       "      <th>prod_name</th>\n",
       "      <th>product_type_no</th>\n",
       "      <th>product_type_name</th>\n",
       "      <th>product_group_name</th>\n",
       "      <th>graphical_appearance_no</th>\n",
       "      <th>graphical_appearance_name</th>\n",
       "      <th>colour_group_code</th>\n",
       "      <th>colour_group_name</th>\n",
       "      <th>...</th>\n",
       "      <th>department_name</th>\n",
       "      <th>index_code</th>\n",
       "      <th>index_name</th>\n",
       "      <th>index_group_no</th>\n",
       "      <th>index_group_name</th>\n",
       "      <th>section_no</th>\n",
       "      <th>section_name</th>\n",
       "      <th>garment_group_no</th>\n",
       "      <th>garment_group_name</th>\n",
       "      <th>detail_desc</th>\n",
       "    </tr>\n",
       "  </thead>\n",
       "  <tbody>\n",
       "    <tr>\n",
       "      <th>53892</th>\n",
       "      <td>706016001</td>\n",
       "      <td>706016</td>\n",
       "      <td>Jade HW Skinny Denim TRS</td>\n",
       "      <td>272</td>\n",
       "      <td>Trousers</td>\n",
       "      <td>Garment Lower body</td>\n",
       "      <td>1010016</td>\n",
       "      <td>Solid</td>\n",
       "      <td>9</td>\n",
       "      <td>Black</td>\n",
       "      <td>...</td>\n",
       "      <td>Trousers</td>\n",
       "      <td>D</td>\n",
       "      <td>Divided</td>\n",
       "      <td>2</td>\n",
       "      <td>Divided</td>\n",
       "      <td>53</td>\n",
       "      <td>Divided Collection</td>\n",
       "      <td>1009</td>\n",
       "      <td>Trousers</td>\n",
       "      <td>High-waisted jeans in washed superstretch deni...</td>\n",
       "    </tr>\n",
       "    <tr>\n",
       "      <th>53904</th>\n",
       "      <td>706016019</td>\n",
       "      <td>706016</td>\n",
       "      <td>Jade HW Skinny Denim TRS</td>\n",
       "      <td>272</td>\n",
       "      <td>Trousers</td>\n",
       "      <td>Garment Lower body</td>\n",
       "      <td>1010016</td>\n",
       "      <td>Solid</td>\n",
       "      <td>73</td>\n",
       "      <td>Dark Blue</td>\n",
       "      <td>...</td>\n",
       "      <td>Trousers</td>\n",
       "      <td>D</td>\n",
       "      <td>Divided</td>\n",
       "      <td>2</td>\n",
       "      <td>Divided</td>\n",
       "      <td>53</td>\n",
       "      <td>Divided Collection</td>\n",
       "      <td>1009</td>\n",
       "      <td>Trousers</td>\n",
       "      <td>High-waisted jeans in washed superstretch deni...</td>\n",
       "    </tr>\n",
       "  </tbody>\n",
       "</table>\n",
       "<p>2 rows × 25 columns</p>\n",
       "</div>"
      ],
      "text/plain": [
       "       article_id  product_code                 prod_name  product_type_no  \\\n",
       "53892   706016001        706016  Jade HW Skinny Denim TRS              272   \n",
       "53904   706016019        706016  Jade HW Skinny Denim TRS              272   \n",
       "\n",
       "      product_type_name  product_group_name  graphical_appearance_no  \\\n",
       "53892          Trousers  Garment Lower body                  1010016   \n",
       "53904          Trousers  Garment Lower body                  1010016   \n",
       "\n",
       "      graphical_appearance_name  colour_group_code colour_group_name  ...  \\\n",
       "53892                     Solid                  9             Black  ...   \n",
       "53904                     Solid                 73         Dark Blue  ...   \n",
       "\n",
       "       department_name index_code  index_name index_group_no  \\\n",
       "53892         Trousers          D     Divided              2   \n",
       "53904         Trousers          D     Divided              2   \n",
       "\n",
       "       index_group_name section_no        section_name garment_group_no  \\\n",
       "53892           Divided         53  Divided Collection             1009   \n",
       "53904           Divided         53  Divided Collection             1009   \n",
       "\n",
       "       garment_group_name                                        detail_desc  \n",
       "53892            Trousers  High-waisted jeans in washed superstretch deni...  \n",
       "53904            Trousers  High-waisted jeans in washed superstretch deni...  \n",
       "\n",
       "[2 rows x 25 columns]"
      ]
     },
     "execution_count": 14,
     "metadata": {},
     "output_type": "execute_result"
    }
   ],
   "source": [
    "# some articles have same name and different ids\n",
    "dfa[(dfa['article_id']==706016001) | (dfa['article_id']==706016019)]"
   ]
  },
  {
   "cell_type": "code",
   "execution_count": 15,
   "id": "5ebe1b12",
   "metadata": {},
   "outputs": [
    {
     "data": {
      "text/plain": [
       "[['Jade HW Skinny Denim TRS', 'Julia RW Skinny Denim TRS'],\n",
       " ['Henry polo. (1)', 'Henry polo (1)'],\n",
       " ['Curvy Jeggings HW Ankle', 'Jeggings H.W'],\n",
       " ['Timeless Midrise Brief', 'Timeless Push Bra'],\n",
       " ['Timeless Midrise Brief', 'Shake it in Balconette'],\n",
       " ['Julia RW Skinny Denim TRS', 'Jade HW Skinny Denim TRS'],\n",
       " ['Highwaist 30 den 1p Tights', 'Control Top 30 den 1p Tights'],\n",
       " ['Lazer Razer Brief', 'Lazer Razer Top']]"
      ]
     },
     "execution_count": 15,
     "metadata": {},
     "output_type": "execute_result"
    }
   ],
   "source": [
    "# I thinks we should not cosider the same products as a result\n",
    "# Here is the final result\n",
    "names_least_unique = [item for item in names_least if (item[0]!=item[1])]\n",
    "names_least_unique"
   ]
  },
  {
   "cell_type": "markdown",
   "id": "bb119457",
   "metadata": {},
   "source": [
    "## show an example of two items are often being sold together"
   ]
  },
  {
   "cell_type": "code",
   "execution_count": 16,
   "id": "10208707",
   "metadata": {},
   "outputs": [],
   "source": [
    "df=pd.read_csv('data/transactions_train.csv')"
   ]
  },
  {
   "cell_type": "code",
   "execution_count": 17,
   "id": "2bb0e1ca",
   "metadata": {},
   "outputs": [],
   "source": [
    "df=df[['t_dat','customer_id','article_id']]\n",
    "df=df.drop_duplicates(['t_dat','customer_id','article_id'])"
   ]
  },
  {
   "cell_type": "code",
   "execution_count": 20,
   "id": "2da6e3de",
   "metadata": {},
   "outputs": [],
   "source": [
    "df_ = df[(df['article_id']==810419006) | (df['article_id']==800389007)][['t_dat','article_id']]\n",
    "df_['t_dat']= pd.to_datetime(df_['t_dat'], format='%Y-%m-%d')\n",
    "df_c=df_.groupby(['article_id','t_dat'])['article_id'].count().reset_index(name='count').set_index('t_dat')"
   ]
  },
  {
   "cell_type": "code",
   "execution_count": 22,
   "id": "f4550266",
   "metadata": {},
   "outputs": [
    {
     "data": {
      "text/plain": [
       "<AxesSubplot:title={'center':'number of items have been sold in a month'}, xlabel='t_dat'>"
      ]
     },
     "execution_count": 22,
     "metadata": {},
     "output_type": "execute_result"
    },
    {
     "data": {
      "image/png": "[encoded data removed]",
      "text/plain": [
       "<Figure size 640x480 with 1 Axes>"
      ]
     },
     "metadata": {},
     "output_type": "display_data"
    }
   ],
   "source": [
    "# plot the shopping pattern for the items in shopping baskets\n",
    "df_c[df_c['article_id']==810419006]['count'].plot(label='Timeless Tanga',legend=True,title='number of items have been sold in a month')\n",
    "df_c[df_c['article_id']==800389007]['count'].plot(label='800389007',legend=True)"
   ]
  },
  {
   "cell_type": "code",
   "execution_count": null,
   "id": "461e376b",
   "metadata": {},
   "outputs": [],
   "source": []
  }
 ],
 "metadata": {
  "kernelspec": {
   "display_name": "Python 3 (ipykernel)",
   "language": "python",
   "name": "python3"
  },
  "language_info": {
   "codemirror_mode": {
    "name": "ipython",
    "version": 3
   },
   "file_extension": ".py",
   "mimetype": "text/x-python",
   "name": "python",
   "nbconvert_exporter": "python",
   "pygments_lexer": "ipython3",
   "version": "3.9.12"
  }
 },
 "nbformat": 4,
 "nbformat_minor": 5
}
