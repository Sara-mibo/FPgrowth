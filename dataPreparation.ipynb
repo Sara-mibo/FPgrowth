{
 "cells": [
  {
   "cell_type": "markdown",
   "id": "6ced2e75",
   "metadata": {},
   "source": [
    "## load data"
   ]
  },
  {
   "cell_type": "code",
   "execution_count": 2,
   "id": "6f492c10",
   "metadata": {},
   "outputs": [],
   "source": [
    "import pandas as pd\n",
    "# load transactions\n",
    "df=pd.read_csv('data/transactions_train.csv')"
   ]
  },
  {
   "cell_type": "code",
   "execution_count": 3,
   "id": "0cd2e666",
   "metadata": {},
   "outputs": [],
   "source": [
    "# load articles\n",
    "dfa=pd.read_csv('data/articles.csv')"
   ]
  },
  {
   "cell_type": "code",
   "execution_count": 4,
   "id": "bbb07c34",
   "metadata": {},
   "outputs": [
    {
     "data": {
      "text/plain": [
       "Index(['article_id', 'product_code', 'prod_name', 'product_type_no',\n",
       "       'product_type_name', 'product_group_name', 'graphical_appearance_no',\n",
       "       'graphical_appearance_name', 'colour_group_code', 'colour_group_name',\n",
       "       'perceived_colour_value_id', 'perceived_colour_value_name',\n",
       "       'perceived_colour_master_id', 'perceived_colour_master_name',\n",
       "       'department_no', 'department_name', 'index_code', 'index_name',\n",
       "       'index_group_no', 'index_group_name', 'section_no', 'section_name',\n",
       "       'garment_group_no', 'garment_group_name', 'detail_desc'],\n",
       "      dtype='object')"
      ]
     },
     "execution_count": 4,
     "metadata": {},
     "output_type": "execute_result"
    }
   ],
   "source": [
    "dfa.columns"
   ]
  },
  {
   "cell_type": "code",
   "execution_count": 5,
   "id": "fc4e221c",
   "metadata": {},
   "outputs": [
    {
     "data": {
      "text/plain": [
       "Index(['t_dat', 'customer_id', 'article_id', 'price', 'sales_channel_id'], dtype='object')"
      ]
     },
     "execution_count": 5,
     "metadata": {},
     "output_type": "execute_result"
    }
   ],
   "source": [
    "df.columns"
   ]
  },
  {
   "cell_type": "markdown",
   "id": "758b5a54",
   "metadata": {},
   "source": [
    "## preprocessing"
   ]
  },
  {
   "cell_type": "code",
   "execution_count": 6,
   "id": "18456617",
   "metadata": {},
   "outputs": [
    {
     "data": {
      "text/html": [
       "<div>\n",
       "<style scoped>\n",
       "    .dataframe tbody tr th:only-of-type {\n",
       "        vertical-align: middle;\n",
       "    }\n",
       "\n",
       "    .dataframe tbody tr th {\n",
       "        vertical-align: top;\n",
       "    }\n",
       "\n",
       "    .dataframe thead th {\n",
       "        text-align: right;\n",
       "    }\n",
       "</style>\n",
       "<table border=\"1\" class=\"dataframe\">\n",
       "  <thead>\n",
       "    <tr style=\"text-align: right;\">\n",
       "      <th></th>\n",
       "      <th>t_dat</th>\n",
       "      <th>customer_id</th>\n",
       "      <th>article_id</th>\n",
       "    </tr>\n",
       "  </thead>\n",
       "  <tbody>\n",
       "    <tr>\n",
       "      <th>0</th>\n",
       "      <td>2018-09-20</td>\n",
       "      <td>000058a12d5b43e67d225668fa1f8d618c13dc232df0ca...</td>\n",
       "      <td>663713001</td>\n",
       "    </tr>\n",
       "    <tr>\n",
       "      <th>1</th>\n",
       "      <td>2018-09-20</td>\n",
       "      <td>000058a12d5b43e67d225668fa1f8d618c13dc232df0ca...</td>\n",
       "      <td>541518023</td>\n",
       "    </tr>\n",
       "    <tr>\n",
       "      <th>2</th>\n",
       "      <td>2018-09-20</td>\n",
       "      <td>00007d2de826758b65a93dd24ce629ed66842531df6699...</td>\n",
       "      <td>505221004</td>\n",
       "    </tr>\n",
       "  </tbody>\n",
       "</table>\n",
       "</div>"
      ],
      "text/plain": [
       "        t_dat                                        customer_id  article_id\n",
       "0  2018-09-20  000058a12d5b43e67d225668fa1f8d618c13dc232df0ca...   663713001\n",
       "1  2018-09-20  000058a12d5b43e67d225668fa1f8d618c13dc232df0ca...   541518023\n",
       "2  2018-09-20  00007d2de826758b65a93dd24ce629ed66842531df6699...   505221004"
      ]
     },
     "execution_count": 6,
     "metadata": {},
     "output_type": "execute_result"
    }
   ],
   "source": [
    "# select relevant features :transactions\n",
    "df=df[['t_dat','customer_id','article_id']]\n",
    "df.head(3)"
   ]
  },
  {
   "cell_type": "code",
   "execution_count": 7,
   "id": "964e5c05",
   "metadata": {},
   "outputs": [],
   "source": [
    "# drop dyplicates in customer's basket (e.g. the customer's bought two similar items in one purchase)\n",
    "df=df.drop_duplicates(['t_dat','customer_id','article_id'])"
   ]
  },
  {
   "cell_type": "code",
   "execution_count": 9,
   "id": "54a3dc5c",
   "metadata": {},
   "outputs": [],
   "source": [
    "# create baskets (Articles that are bought by a customer in one shop make a basket)\n",
    "df_basket=df.groupby(['t_dat','customer_id'])['article_id'].apply(lambda x: ','.join(map(str,x))).reset_index(name='itemset')"
   ]
  },
  {
   "cell_type": "markdown",
   "id": "70f0e8a4",
   "metadata": {},
   "source": [
    "## save data "
   ]
  },
  {
   "cell_type": "code",
   "execution_count": 10,
   "id": "a7f1b8e7",
   "metadata": {},
   "outputs": [],
   "source": [
    "# save data for further process\n",
    "df_basket['itemset'].to_csv('data/itemsets.csv')"
   ]
  },
  {
   "cell_type": "markdown",
   "id": "d3063027",
   "metadata": {},
   "source": [
    "## data analyzation"
   ]
  },
  {
   "cell_type": "markdown",
   "id": "9731a404",
   "metadata": {},
   "source": [
    "<div class=\"alert alert-block alert-info\">\n",
    "<b>data description:</b> The total number of unique articles is 104,547. <br>  \n",
    "The total number of articles have been bought from 2018 to 2020 is 28,575,395.\n",
    "</div>"
   ]
  },
  {
   "cell_type": "code",
   "execution_count": 11,
   "id": "3b762e98",
   "metadata": {},
   "outputs": [
    {
     "data": {
      "text/plain": [
       "104547"
      ]
     },
     "execution_count": 11,
     "metadata": {},
     "output_type": "execute_result"
    }
   ],
   "source": [
    "# total number of unique articles\n",
    "len(pd.unique(df.article_id))"
   ]
  },
  {
   "cell_type": "code",
   "execution_count": 12,
   "id": "6d320336",
   "metadata": {},
   "outputs": [],
   "source": [
    "# frequency of articles that are bought (most common and least common)\n",
    "from collections import Counter\n",
    "# dictionary of each article_id and its frequency\n",
    "count=Counter(list(df['article_id']))"
   ]
  },
  {
   "cell_type": "code",
   "execution_count": 13,
   "id": "a334817a",
   "metadata": {},
   "outputs": [
    {
     "data": {
      "text/html": [
       "<div>\n",
       "<style scoped>\n",
       "    .dataframe tbody tr th:only-of-type {\n",
       "        vertical-align: middle;\n",
       "    }\n",
       "\n",
       "    .dataframe tbody tr th {\n",
       "        vertical-align: top;\n",
       "    }\n",
       "\n",
       "    .dataframe thead th {\n",
       "        text-align: right;\n",
       "    }\n",
       "</style>\n",
       "<table border=\"1\" class=\"dataframe\">\n",
       "  <thead>\n",
       "    <tr style=\"text-align: right;\">\n",
       "      <th></th>\n",
       "      <th>article_id</th>\n",
       "      <th>frequency</th>\n",
       "    </tr>\n",
       "  </thead>\n",
       "  <tbody>\n",
       "    <tr>\n",
       "      <th>0</th>\n",
       "      <td>663713001</td>\n",
       "      <td>584</td>\n",
       "    </tr>\n",
       "    <tr>\n",
       "      <th>1</th>\n",
       "      <td>541518023</td>\n",
       "      <td>427</td>\n",
       "    </tr>\n",
       "    <tr>\n",
       "      <th>2</th>\n",
       "      <td>505221004</td>\n",
       "      <td>42</td>\n",
       "    </tr>\n",
       "  </tbody>\n",
       "</table>\n",
       "</div>"
      ],
      "text/plain": [
       "   article_id  frequency\n",
       "0   663713001        584\n",
       "1   541518023        427\n",
       "2   505221004         42"
      ]
     },
     "execution_count": 13,
     "metadata": {},
     "output_type": "execute_result"
    }
   ],
   "source": [
    "# convert Counter object to a dataframe\n",
    "df_count = pd.DataFrame.from_dict(count, orient='index').reset_index()\n",
    "df_count = df_count.rename(columns={'index':'article_id', 0:'frequency'})\n",
    "df_count.head(3)"
   ]
  },
  {
   "cell_type": "code",
   "execution_count": 14,
   "id": "76d77e89",
   "metadata": {},
   "outputs": [
    {
     "data": {
      "text/plain": [
       "28575395"
      ]
     },
     "execution_count": 14,
     "metadata": {},
     "output_type": "execute_result"
    }
   ],
   "source": [
    "# total number of articles have been bought\n",
    "sum(df_count.frequency)"
   ]
  },
  {
   "cell_type": "code",
   "execution_count": 15,
   "id": "b6c6d052",
   "metadata": {},
   "outputs": [
    {
     "data": {
      "text/html": [
       "<div>\n",
       "<style scoped>\n",
       "    .dataframe tbody tr th:only-of-type {\n",
       "        vertical-align: middle;\n",
       "    }\n",
       "\n",
       "    .dataframe tbody tr th {\n",
       "        vertical-align: top;\n",
       "    }\n",
       "\n",
       "    .dataframe thead th {\n",
       "        text-align: right;\n",
       "    }\n",
       "</style>\n",
       "<table border=\"1\" class=\"dataframe\">\n",
       "  <thead>\n",
       "    <tr style=\"text-align: right;\">\n",
       "      <th></th>\n",
       "      <th>frequency</th>\n",
       "      <th>num_articles</th>\n",
       "    </tr>\n",
       "  </thead>\n",
       "  <tbody>\n",
       "    <tr>\n",
       "      <th>0</th>\n",
       "      <td>1</td>\n",
       "      <td>4668</td>\n",
       "    </tr>\n",
       "    <tr>\n",
       "      <th>1</th>\n",
       "      <td>2</td>\n",
       "      <td>3381</td>\n",
       "    </tr>\n",
       "    <tr>\n",
       "      <th>2</th>\n",
       "      <td>3</td>\n",
       "      <td>2806</td>\n",
       "    </tr>\n",
       "  </tbody>\n",
       "</table>\n",
       "</div>"
      ],
      "text/plain": [
       "   frequency  num_articles\n",
       "0          1          4668\n",
       "1          2          3381\n",
       "2          3          2806"
      ]
     },
     "execution_count": 15,
     "metadata": {},
     "output_type": "execute_result"
    }
   ],
   "source": [
    "# group the articles based on their frequency (explanation: 4668 articles are sold just once)\n",
    "df_articleFreq= df_count.groupby(['frequency'])['frequency'].count().reset_index(name='num_articles')\n",
    "df_articleFreq.head(3)"
   ]
  },
  {
   "cell_type": "markdown",
   "id": "7c2d1e19",
   "metadata": {},
   "source": [
    "**From all articles that we have, we are interested in articles that appeared more frequently in the shopping baskets.**"
   ]
  },
  {
   "cell_type": "code",
   "execution_count": 23,
   "id": "4cce3596",
   "metadata": {},
   "outputs": [
    {
     "data": {
      "text/plain": [
       "2158"
      ]
     },
     "execution_count": 23,
     "metadata": {},
     "output_type": "execute_result"
    }
   ],
   "source": [
    "# how many articles appeared more frequently in shopping baskets\n",
    "sum(df_articleFreq[df_articleFreq.frequency > 2000]['num_articles'])"
   ]
  },
  {
   "cell_type": "markdown",
   "id": "7b847ec3",
   "metadata": {},
   "source": [
    "### shopping patterns for most common articles"
   ]
  },
  {
   "cell_type": "code",
   "execution_count": 24,
   "id": "f362ad91",
   "metadata": {},
   "outputs": [
    {
     "data": {
      "text/plain": [
       "[(706016001, 42146), (706016002, 30544), (372860001, 29179)]"
      ]
     },
     "execution_count": 24,
     "metadata": {},
     "output_type": "execute_result"
    }
   ],
   "source": [
    "# most common articles (first 3 ones)\n",
    "count.most_common(3)"
   ]
  },
  {
   "cell_type": "code",
   "execution_count": 25,
   "id": "452ee06b",
   "metadata": {},
   "outputs": [],
   "source": [
    "df_common = df[(df['article_id']==706016001) | (df['article_id']==372860001)][['t_dat','article_id']]\n",
    "df_common['t_dat']= pd.to_datetime(df_common['t_dat'], format='%Y-%m-%d')\n",
    "df_common_count=df_common.groupby(['article_id','t_dat'])['article_id'].count().reset_index(name='count').set_index('t_dat')"
   ]
  },
  {
   "cell_type": "code",
   "execution_count": 26,
   "id": "40e733c6",
   "metadata": {},
   "outputs": [
    {
     "data": {
      "text/plain": [
       "<AxesSubplot:title={'center':'number of items have been sold in a month'}, xlabel='t_dat'>"
      ]
     },
     "execution_count": 26,
     "metadata": {},
     "output_type": "execute_result"
    },
    {
     "data": {
      "image/png": "[encoded data removed]",
      "text/plain": [
       "<Figure size 640x480 with 1 Axes>"
      ]
     },
     "metadata": {},
     "output_type": "display_data"
    }
   ],
   "source": [
    "# plot the shopping pattern for the most common item in shopping baskets\n",
    "df_common_count[df_common_count['article_id']==706016001]['count'].plot(label='706016001',legend=True,title='number of items have been sold in a month')\n",
    "df_common_count[df_common_count['article_id']==372860001]['count'].plot(label='372860001',legend=True)"
   ]
  },
  {
   "cell_type": "markdown",
   "id": "5afa77ff",
   "metadata": {},
   "source": [
    "**To get the name of articles that are interested, we create a dictionary from the articles ids and names. Then, we can map the values from two dataframes.**"
   ]
  },
  {
   "cell_type": "code",
   "execution_count": 27,
   "id": "b6fc609b",
   "metadata": {},
   "outputs": [],
   "source": [
    "# get relevant features: articles\n",
    "dfa = dfa[['article_id', 'prod_name']]\n",
    "# generate dictionary key: article_id, value: product_name\n",
    "dfa_dict=dict(zip(dfa.article_id,dfa.prod_name))"
   ]
  },
  {
   "cell_type": "code",
   "execution_count": 28,
   "id": "36eb4947",
   "metadata": {},
   "outputs": [
    {
     "data": {
      "text/plain": [
       "['Jade HW Skinny Denim TRS', 'Jade HW Skinny Denim TRS', '7p Basic Shaftless']"
      ]
     },
     "execution_count": 28,
     "metadata": {},
     "output_type": "execute_result"
    }
   ],
   "source": [
    "# return name of most common products (mapping)\n",
    "[dfa_dict[x] for x in [706016001,706016002,372860001]]"
   ]
  },
  {
   "cell_type": "markdown",
   "id": "6314e4dd",
   "metadata": {},
   "source": [
    "### Distribution of number of baskets"
   ]
  },
  {
   "cell_type": "markdown",
   "id": "2652a139",
   "metadata": {},
   "source": [
    "*Plot number of purchases for different basket size*"
   ]
  },
  {
   "cell_type": "code",
   "execution_count": 30,
   "id": "c4ea6efd",
   "metadata": {},
   "outputs": [
    {
     "data": {
      "text/html": [
       "<div>\n",
       "<style scoped>\n",
       "    .dataframe tbody tr th:only-of-type {\n",
       "        vertical-align: middle;\n",
       "    }\n",
       "\n",
       "    .dataframe tbody tr th {\n",
       "        vertical-align: top;\n",
       "    }\n",
       "\n",
       "    .dataframe thead th {\n",
       "        text-align: right;\n",
       "    }\n",
       "</style>\n",
       "<table border=\"1\" class=\"dataframe\">\n",
       "  <thead>\n",
       "    <tr style=\"text-align: right;\">\n",
       "      <th></th>\n",
       "      <th>size_basket</th>\n",
       "      <th>count</th>\n",
       "    </tr>\n",
       "  </thead>\n",
       "  <tbody>\n",
       "    <tr>\n",
       "      <th>0</th>\n",
       "      <td>1</td>\n",
       "      <td>2969840</td>\n",
       "    </tr>\n",
       "    <tr>\n",
       "      <th>1</th>\n",
       "      <td>2</td>\n",
       "      <td>2149197</td>\n",
       "    </tr>\n",
       "    <tr>\n",
       "      <th>2</th>\n",
       "      <td>3</td>\n",
       "      <td>1323955</td>\n",
       "    </tr>\n",
       "  </tbody>\n",
       "</table>\n",
       "</div>"
      ],
      "text/plain": [
       "   size_basket    count\n",
       "0            1  2969840\n",
       "1            2  2149197\n",
       "2            3  1323955"
      ]
     },
     "execution_count": 30,
     "metadata": {},
     "output_type": "execute_result"
    }
   ],
   "source": [
    "# calculate size of baskets for each purchase \n",
    "df_basket1 = df_basket[['itemset']].copy()\n",
    "df_basket1['size_basket']=df_basket1['itemset'].apply(lambda x: len(x.split(',')))\n",
    "\n",
    "# Compute the frequeny of different size of baskets(how many times baskets of size 3 have been purchased)\n",
    "df_basket2= df_basket1.groupby(['size_basket'])['size_basket'].count().reset_index(name='count')\n",
    "df_basket2.head(3)"
   ]
  },
  {
   "cell_type": "markdown",
   "id": "58915bbe",
   "metadata": {},
   "source": [
    "**Less than 100 purchases (out of 9,080,179) have the basket size bigger that 50 articles. We remove these purchases with big basket size because they are likely belong to not ordinary customers (maybe other shopping centers and companies).**"
   ]
  },
  {
   "cell_type": "code",
   "execution_count": 31,
   "id": "a8bfd217",
   "metadata": {},
   "outputs": [
    {
     "name": "stdout",
     "output_type": "stream",
     "text": [
      "total purchase: 9080179, purchase in big basket:98\n"
     ]
    }
   ],
   "source": [
    "print('total purchase: {}, purchase in big basket:{}'.format(len(df_basket1),len(df_basket1[df_basket1['size_basket']>50])))"
   ]
  },
  {
   "cell_type": "code",
   "execution_count": 32,
   "id": "9e6574b4",
   "metadata": {},
   "outputs": [],
   "source": [
    "import math\n",
    "# prepare data for plot\n",
    "df_basket2=df_basket2[df_basket2['size_basket']<=50]\n",
    "df_basket2['size_basket']=df_basket2['size_basket'].astype(str)\n",
    "# scaling down large values\n",
    "df_basket2['count']=df_basket2['count'].apply(lambda x: math.log(x))"
   ]
  },
  {
   "cell_type": "code",
   "execution_count": 33,
   "id": "f901193f",
   "metadata": {},
   "outputs": [
    {
     "data": {
      "image/png": "[encoded data removed]",
      "text/plain": [
       "<Figure size 1500x900 with 1 Axes>"
      ]
     },
     "metadata": {},
     "output_type": "display_data"
    }
   ],
   "source": [
    "import matplotlib.pyplot as plt\n",
    "import seaborn as sns\n",
    "f, ax = plt.subplots(figsize=(15,9))\n",
    "\n",
    "sns.set(style=\"darkgrid\")\n",
    "\n",
    "sns.set_color_codes(\"muted\")\n",
    "sns.barplot(x=\"count\", y=\"size_basket\", data=df_basket2, label=\"log(count)\",color=\"b\")\n",
    "\n",
    "sns.despine(left=True, bottom=True)\n",
    "ax.legend(ncol=2, loc=\"lower right\", frameon=True)\n",
    "plt.tight_layout()\n",
    "plt.show()"
   ]
  },
  {
   "cell_type": "code",
   "execution_count": null,
   "id": "7140c2af",
   "metadata": {},
   "outputs": [],
   "source": []
  }
 ],
 "metadata": {
  "kernelspec": {
   "display_name": "Python 3 (ipykernel)",
   "language": "python",
   "name": "python3"
  },
  "language_info": {
   "codemirror_mode": {
    "name": "ipython",
    "version": 3
   },
   "file_extension": ".py",
   "mimetype": "text/x-python",
   "name": "python",
   "nbconvert_exporter": "python",
   "pygments_lexer": "ipython3",
   "version": "3.9.12"
  }
 },
 "nbformat": 4,
 "nbformat_minor": 5
}
